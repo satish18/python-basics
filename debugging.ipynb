{
 "cells": [
  {
   "cell_type": "markdown",
   "metadata": {
    "collapsed": true
   },
   "source": [
    "# Debugging"
   ]
  },
  {
   "cell_type": "markdown",
   "metadata": {},
   "source": [
    "**pdb** implements an interactive debugging environment for Python programs. It includes features to let you pause your program, look at the values of variables, and watch program execution step-by-step, so you can understand what your program actually does and find bugs in the logic."
   ]
  },
  {
   "cell_type": "markdown",
   "metadata": {},
   "source": [
    "# Starting the Debugger"
   ]
  },
  {
   "cell_type": "markdown",
   "metadata": {},
   "source": [
    "**From the Command Line**"
   ]
  },
  {
   "cell_type": "code",
   "execution_count": 1,
   "metadata": {},
   "outputs": [
    {
     "name": "stdout",
     "output_type": "stream",
     "text": [
      "0\n",
      "1\n",
      "2\n",
      "3\n",
      "4\n"
     ]
    }
   ],
   "source": [
    "class MyClass(object):\n",
    "\n",
    "    def __init__(self, num_loops):\n",
    "        self.count = num_loops\n",
    "\n",
    "    def go(self):\n",
    "        for i in range(self.count):\n",
    "            print i\n",
    "        return\n",
    "\n",
    "if __name__ == '__main__':\n",
    "    MyClass(5).go()"
   ]
  },
  {
   "cell_type": "markdown",
   "metadata": {},
   "source": [
    "Running the debugger from the command line causes it to load your source file and stop execution on the first statement it finds. In this case, it stops before evaluating the definition of the class MyClass on line 1"
   ]
  },
  {
   "cell_type": "markdown",
   "metadata": {},
   "source": [
    "**python -m pdb pdb_script.py**  run the command from command line"
   ]
  },
  {
   "cell_type": "markdown",
   "metadata": {},
   "source": [
    "**Within the Interpreter**"
   ]
  },
  {
   "cell_type": "markdown",
   "metadata": {},
   "source": [
    "Many Python developers work with the interactive interpreter while developing early versions of modules because it lets them experiment more iteratively without the save/run/repeat cycle needed when creating standalone scripts. To run the debugger from within an interactive interpreter, use run() or runeval()."
   ]
  },
  {
   "cell_type": "markdown",
   "metadata": {},
   "source": [
    "$ python\n",
    "Python 3.6.2 (default, Jul 17 2017, 16:44:45) \n",
    "[GCC 4.2.1 Compatible Apple LLVM 8.1.0 (clang-802.0.42)] on darwin\n",
    "Type \"help\", \"copyright\", \"credits\" or \"license\" for more information.\n",
    ">>> import pdb\n",
    ">>> pdb.run('pdb_script.MyClass(5).go()')\n",
    "> <string>(1)<module>()\n",
    "(Pdb) "
   ]
  },
  {
   "cell_type": "markdown",
   "metadata": {},
   "source": [
    "The argument to run() is a string expression that can be evaluated by the Python interpreter. The debugger will parse it, then pause execution just before the first expression evaluates. You can use the debugger commands described below to navigate and control the execution."
   ]
  },
  {
   "cell_type": "markdown",
   "metadata": {},
   "source": [
    "**From Within Your Program**"
   ]
  },
  {
   "cell_type": "code",
   "execution_count": 6,
   "metadata": {},
   "outputs": [
    {
     "name": "stdout",
     "output_type": "stream",
     "text": [
      "> <ipython-input-6-4872f43b7f8e>(11)go()\n",
      "-> print(i)\n",
      "(Pdb) print(i)\n",
      "0\n",
      "(Pdb) print(i)\n",
      "0\n",
      "(Pdb) c\n",
      "0\n",
      "> <ipython-input-6-4872f43b7f8e>(10)go()\n",
      "-> pdb.set_trace()\n",
      "(Pdb) print(i)\n",
      "1\n",
      "(Pdb) c\n",
      "1\n",
      "> <ipython-input-6-4872f43b7f8e>(11)go()\n",
      "-> print(i)\n",
      "(Pdb) print(i)\n",
      "2\n",
      "(Pdb) c\n",
      "2\n",
      "> <ipython-input-6-4872f43b7f8e>(10)go()\n",
      "-> pdb.set_trace()\n",
      "(Pdb) c\n",
      "3\n",
      "> <ipython-input-6-4872f43b7f8e>(11)go()\n",
      "-> print(i)\n",
      "(Pdb) c\n",
      "4\n"
     ]
    }
   ],
   "source": [
    "import pdb\n",
    "\n",
    "class MyClass(object):\n",
    "\n",
    "    def __init__(self, num_loops):\n",
    "        self.count = num_loops\n",
    "\n",
    "    def go(self):\n",
    "        for i in range(self.count):\n",
    "            pdb.set_trace()\n",
    "            print(i)\n",
    "        return\n",
    "\n",
    "if __name__ == '__main__':\n",
    "    MyClass(5).go()"
   ]
  },
  {
   "cell_type": "markdown",
   "metadata": {},
   "source": [
    "# Controlling the Debugger"
   ]
  },
  {
   "cell_type": "markdown",
   "metadata": {},
   "source": [
    "You interact with the debugger using a small command language that lets you move around the call stack, examine and change the values of variables, and control how the debugger executes your program. The interactive debugger uses readline to accept commands. Entering a blank line re-runs the previous command again, unless it was a list operation."
   ]
  },
  {
   "cell_type": "markdown",
   "metadata": {},
   "source": [
    "**Navigating the Execution Stack**"
   ]
  },
  {
   "cell_type": "markdown",
   "metadata": {},
   "source": [
    "At any point while the debugger is running you can use where (abbreviated w) to find out exactly what line is being executed and where on the call stack you are. In this case, the module pdb_set_trace.py line 11 in the go() method."
   ]
  },
  {
   "cell_type": "markdown",
   "metadata": {},
   "source": [
    "$python pdb_set_trace.py \n",
    "> /Users/satishatcha/appliedAI/python-basics/pdb_set_trace.py(11)go()\n",
    "-> print(i)\n",
    "(Pdb) where\n",
    "  /Users/satishatcha/appliedAI/python-basics/pdb_set_trace.py(15)<module>()\n",
    "-> MyClass(5).go()\n",
    "> /Users/satishatcha/appliedAI/python-basics/pdb_set_trace.py(11)go()\n",
    "-> print(i)\n",
    "(Pdb)"
   ]
  },
  {
   "cell_type": "markdown",
   "metadata": {},
   "source": [
    "To add more context around the current location, use list (l)."
   ]
  },
  {
   "cell_type": "markdown",
   "metadata": {},
   "source": [
    "(Pdb) list\n",
    "  6  \t        self.count = num_loops\n",
    "  7  \t\n",
    "  8  \t    def go(self):\n",
    "  9  \t        for i in range(self.count):\n",
    " 10  \t            pdb.set_trace()\n",
    " 11  ->\t            print(i)\n",
    " 12  \t        return\n",
    " 13  \t\n",
    " 14  \tif __name__ == '__main__':\n",
    " 15  \t    MyClass(5).go()\n",
    "[EOF]\n",
    "(Pdb) "
   ]
  },
  {
   "cell_type": "markdown",
   "metadata": {},
   "source": [
    "If list receives two arguments, it interprets them as the first and last lines to include in its output."
   ]
  },
  {
   "cell_type": "markdown",
   "metadata": {},
   "source": [
    "(Pdb) list 1, 15\n",
    "  1  \timport pdb\n",
    "  2  \t\n",
    "  3  \tclass MyClass():\n",
    "  4  \t\n",
    "  5  \t    def __init__(self, num_loops):\n",
    "  6  \t        self.count = num_loops\n",
    "  7  \t\n",
    "  8  \t    def go(self):\n",
    "  9  \t        for i in range(self.count):\n",
    " 10  \t            pdb.set_trace()\n",
    " 11  ->\t            print(i)\n",
    " 12  \t        return\n",
    " 13  \t\n",
    " 14  \tif __name__ == '__main__':\n",
    " 15  \t    MyClass(5).go()\n",
    "(Pdb)"
   ]
  },
  {
   "cell_type": "markdown",
   "metadata": {},
   "source": [
    "Move between frames within the current call stack using up and down. up (abbreviated u) moves towards older frames on the stack. down (abbreviated d) moves towards newer frames."
   ]
  },
  {
   "cell_type": "markdown",
   "metadata": {},
   "source": [
    "(Pdb) up\n",
    "> /Users/satishatcha/appliedAI/python-basics/pdb_set_trace.py(15)<module>()\n",
    "-> MyClass(5).go()\n",
    "(Pdb) down\n",
    "> /Users/satishatcha/appliedAI/python-basics/pdb_set_trace.py(11)go()\n",
    "-> print(i)\n",
    "(Pdb)"
   ]
  },
  {
   "cell_type": "markdown",
   "metadata": {},
   "source": [
    "# Debugger Commands"
   ]
  },
  {
   "cell_type": "markdown",
   "metadata": {},
   "source": [
    "**1. h(elp) [command]**\n"
   ]
  },
  {
   "cell_type": "markdown",
   "metadata": {},
   "source": [
    "Without argument, print the list of available commands. With a command as argument, print help about that command. help pdb displays the full documentation (the docstring of the pdb module). Since the command argument must be an identifier, help exec must be entered to get help on the ! command."
   ]
  },
  {
   "cell_type": "markdown",
   "metadata": {},
   "source": [
    "**2. w(here)**\n",
    "\n",
    "Print a stack trace, with the most recent frame at the bottom. An arrow indicates the current frame, which determines the context of most commands."
   ]
  },
  {
   "cell_type": "markdown",
   "metadata": {},
   "source": [
    "**3. d(own) [count]**\n",
    "\n",
    "Move the current frame count (default one) levels down in the stack trace (to a newer frame)."
   ]
  },
  {
   "cell_type": "markdown",
   "metadata": {},
   "source": [
    "**4.c(ont(inue))**\n",
    "\n",
    "Continue execution, only stop when a breakpoint is encountered."
   ]
  },
  {
   "cell_type": "markdown",
   "metadata": {},
   "source": [
    "**5. q(uit)**\n",
    "\n",
    "Quit from the debugger. The program being executed is aborted."
   ]
  },
  {
   "cell_type": "code",
   "execution_count": 9,
   "metadata": {},
   "outputs": [
    {
     "name": "stdout",
     "output_type": "stream",
     "text": [
      "> <ipython-input-9-d7e9a2836f87>(12)go()\n",
      "-> print(i)\n",
      "(Pdb) h\n",
      "\n",
      "Documented commands (type help <topic>):\n",
      "========================================\n",
      "EOF    bt         cont      enable  jump  pp       run      unt   \n",
      "a      c          continue  exit    l     q        s        until \n",
      "alias  cl         d         h       list  quit     step     up    \n",
      "args   clear      debug     help    n     r        tbreak   w     \n",
      "b      commands   disable   ignore  next  restart  u        whatis\n",
      "break  condition  down      j       p     return   unalias  where \n",
      "\n",
      "Miscellaneous help topics:\n",
      "==========================\n",
      "exec  pdb\n",
      "\n",
      "Undocumented commands:\n",
      "======================\n",
      "retval  rv\n",
      "\n",
      "(Pdb) w\n",
      "  /System/Library/Frameworks/Python.framework/Versions/2.7/lib/python2.7/runpy.py(162)_run_module_as_main()\n",
      "-> \"__main__\", fname, loader, pkg_name)\n",
      "  /System/Library/Frameworks/Python.framework/Versions/2.7/lib/python2.7/runpy.py(72)_run_code()\n",
      "-> exec code in run_globals\n",
      "  /Users/satishatcha/.virtualenvs/course/lib/python2.7/site-packages/ipykernel_launcher.py(16)<module>()\n",
      "-> app.launch_new_instance()\n",
      "  /Users/satishatcha/.virtualenvs/course/lib/python2.7/site-packages/traitlets/config/application.py(658)launch_instance()\n",
      "-> app.start()\n",
      "  /Users/satishatcha/.virtualenvs/course/lib/python2.7/site-packages/ipykernel/kernelapp.py(477)start()\n",
      "-> ioloop.IOLoop.instance().start()\n",
      "  /Users/satishatcha/.virtualenvs/course/lib/python2.7/site-packages/zmq/eventloop/ioloop.py(177)start()\n",
      "-> super(ZMQIOLoop, self).start()\n",
      "  /Users/satishatcha/.virtualenvs/course/lib/python2.7/site-packages/tornado/ioloop.py(888)start()\n",
      "-> handler_func(fd_obj, events)\n",
      "  /Users/satishatcha/.virtualenvs/course/lib/python2.7/site-packages/tornado/stack_context.py(277)null_wrapper()\n",
      "-> return fn(*args, **kwargs)\n",
      "  /Users/satishatcha/.virtualenvs/course/lib/python2.7/site-packages/zmq/eventloop/zmqstream.py(440)_handle_events()\n",
      "-> self._handle_recv()\n",
      "  /Users/satishatcha/.virtualenvs/course/lib/python2.7/site-packages/zmq/eventloop/zmqstream.py(472)_handle_recv()\n",
      "-> self._run_callback(callback, msg)\n",
      "  /Users/satishatcha/.virtualenvs/course/lib/python2.7/site-packages/zmq/eventloop/zmqstream.py(414)_run_callback()\n",
      "-> callback(*args, **kwargs)\n",
      "  /Users/satishatcha/.virtualenvs/course/lib/python2.7/site-packages/tornado/stack_context.py(277)null_wrapper()\n",
      "-> return fn(*args, **kwargs)\n",
      "  /Users/satishatcha/.virtualenvs/course/lib/python2.7/site-packages/ipykernel/kernelbase.py(283)dispatcher()\n",
      "-> return self.dispatch_shell(stream, msg)\n",
      "  /Users/satishatcha/.virtualenvs/course/lib/python2.7/site-packages/ipykernel/kernelbase.py(235)dispatch_shell()\n",
      "-> handler(stream, idents, msg)\n",
      "  /Users/satishatcha/.virtualenvs/course/lib/python2.7/site-packages/ipykernel/kernelbase.py(399)execute_request()\n",
      "-> user_expressions, allow_stdin)\n",
      "  /Users/satishatcha/.virtualenvs/course/lib/python2.7/site-packages/ipykernel/ipkernel.py(196)do_execute()\n",
      "-> res = shell.run_cell(code, store_history=store_history, silent=silent)\n",
      "  /Users/satishatcha/.virtualenvs/course/lib/python2.7/site-packages/ipykernel/zmqshell.py(533)run_cell()\n",
      "-> return super(ZMQInteractiveShell, self).run_cell(*args, **kwargs)\n",
      "  /Users/satishatcha/.virtualenvs/course/lib/python2.7/site-packages/IPython/core/interactiveshell.py(2718)run_cell()\n",
      "-> interactivity=interactivity, compiler=compiler, result=result)\n",
      "  /Users/satishatcha/.virtualenvs/course/lib/python2.7/site-packages/IPython/core/interactiveshell.py(2822)run_ast_nodes()\n",
      "-> if self.run_code(code, result):\n",
      "  /Users/satishatcha/.virtualenvs/course/lib/python2.7/site-packages/IPython/core/interactiveshell.py(2882)run_code()\n",
      "-> exec(code_obj, self.user_global_ns, self.user_ns)\n",
      "  <ipython-input-9-d7e9a2836f87>(16)<module>()\n",
      "-> MyClass(5).go()\n",
      "> <ipython-input-9-d7e9a2836f87>(12)go()\n",
      "-> print(i)\n",
      "(Pdb) d\n",
      "*** Newest frame\n",
      "(Pdb) u\n",
      "> <ipython-input-9-d7e9a2836f87>(16)<module>()\n",
      "-> MyClass(5).go()\n",
      "(Pdb) b\n",
      "(Pdb) cl\n",
      "Clear all breaks? y\n",
      "(Pdb) s\n",
      "--Call--\n",
      "> /Users/satishatcha/.virtualenvs/course/lib/python2.7/site-packages/ipykernel/iostream.py(342)write()\n",
      "-> def write(self, string):\n",
      "(Pdb) c\n",
      "0\n",
      "> <ipython-input-9-d7e9a2836f87>(11)go()\n",
      "-> pdb.set_trace()\n",
      "(Pdb) q\n"
     ]
    },
    {
     "ename": "BdbQuit",
     "evalue": "",
     "output_type": "error",
     "traceback": [
      "\u001b[0;31m---------------------------------------------------------------------------\u001b[0m",
      "\u001b[0;31mBdbQuit\u001b[0m                                   Traceback (most recent call last)",
      "\u001b[0;32m<ipython-input-9-d7e9a2836f87>\u001b[0m in \u001b[0;36m<module>\u001b[0;34m()\u001b[0m\n\u001b[1;32m     14\u001b[0m \u001b[0;34m\u001b[0m\u001b[0m\n\u001b[1;32m     15\u001b[0m \u001b[0;32mif\u001b[0m \u001b[0m__name__\u001b[0m \u001b[0;34m==\u001b[0m \u001b[0;34m'__main__'\u001b[0m\u001b[0;34m:\u001b[0m\u001b[0;34m\u001b[0m\u001b[0m\n\u001b[0;32m---> 16\u001b[0;31m     \u001b[0mMyClass\u001b[0m\u001b[0;34m(\u001b[0m\u001b[0;36m5\u001b[0m\u001b[0;34m)\u001b[0m\u001b[0;34m.\u001b[0m\u001b[0mgo\u001b[0m\u001b[0;34m(\u001b[0m\u001b[0;34m)\u001b[0m\u001b[0;34m\u001b[0m\u001b[0m\n\u001b[0m",
      "\u001b[0;32m<ipython-input-9-d7e9a2836f87>\u001b[0m in \u001b[0;36mgo\u001b[0;34m(self)\u001b[0m\n\u001b[1;32m      9\u001b[0m     \u001b[0;32mdef\u001b[0m \u001b[0mgo\u001b[0m\u001b[0;34m(\u001b[0m\u001b[0mself\u001b[0m\u001b[0;34m)\u001b[0m\u001b[0;34m:\u001b[0m\u001b[0;34m\u001b[0m\u001b[0m\n\u001b[1;32m     10\u001b[0m         \u001b[0;32mfor\u001b[0m \u001b[0mi\u001b[0m \u001b[0;32min\u001b[0m \u001b[0mrange\u001b[0m\u001b[0;34m(\u001b[0m\u001b[0mself\u001b[0m\u001b[0;34m.\u001b[0m\u001b[0mcount\u001b[0m\u001b[0;34m)\u001b[0m\u001b[0;34m:\u001b[0m\u001b[0;34m\u001b[0m\u001b[0m\n\u001b[0;32m---> 11\u001b[0;31m             \u001b[0mpdb\u001b[0m\u001b[0;34m.\u001b[0m\u001b[0mset_trace\u001b[0m\u001b[0;34m(\u001b[0m\u001b[0;34m)\u001b[0m\u001b[0;34m\u001b[0m\u001b[0m\n\u001b[0m\u001b[1;32m     12\u001b[0m             \u001b[0;32mprint\u001b[0m\u001b[0;34m(\u001b[0m\u001b[0mi\u001b[0m\u001b[0;34m)\u001b[0m\u001b[0;34m\u001b[0m\u001b[0m\n\u001b[1;32m     13\u001b[0m         \u001b[0;32mreturn\u001b[0m\u001b[0;34m\u001b[0m\u001b[0m\n",
      "\u001b[0;32m<ipython-input-9-d7e9a2836f87>\u001b[0m in \u001b[0;36mgo\u001b[0;34m(self)\u001b[0m\n\u001b[1;32m      9\u001b[0m     \u001b[0;32mdef\u001b[0m \u001b[0mgo\u001b[0m\u001b[0;34m(\u001b[0m\u001b[0mself\u001b[0m\u001b[0;34m)\u001b[0m\u001b[0;34m:\u001b[0m\u001b[0;34m\u001b[0m\u001b[0m\n\u001b[1;32m     10\u001b[0m         \u001b[0;32mfor\u001b[0m \u001b[0mi\u001b[0m \u001b[0;32min\u001b[0m \u001b[0mrange\u001b[0m\u001b[0;34m(\u001b[0m\u001b[0mself\u001b[0m\u001b[0;34m.\u001b[0m\u001b[0mcount\u001b[0m\u001b[0;34m)\u001b[0m\u001b[0;34m:\u001b[0m\u001b[0;34m\u001b[0m\u001b[0m\n\u001b[0;32m---> 11\u001b[0;31m             \u001b[0mpdb\u001b[0m\u001b[0;34m.\u001b[0m\u001b[0mset_trace\u001b[0m\u001b[0;34m(\u001b[0m\u001b[0;34m)\u001b[0m\u001b[0;34m\u001b[0m\u001b[0m\n\u001b[0m\u001b[1;32m     12\u001b[0m             \u001b[0;32mprint\u001b[0m\u001b[0;34m(\u001b[0m\u001b[0mi\u001b[0m\u001b[0;34m)\u001b[0m\u001b[0;34m\u001b[0m\u001b[0m\n\u001b[1;32m     13\u001b[0m         \u001b[0;32mreturn\u001b[0m\u001b[0;34m\u001b[0m\u001b[0m\n",
      "\u001b[0;32m/System/Library/Frameworks/Python.framework/Versions/2.7/lib/python2.7/bdb.pyc\u001b[0m in \u001b[0;36mtrace_dispatch\u001b[0;34m(self, frame, event, arg)\u001b[0m\n\u001b[1;32m     47\u001b[0m             \u001b[0;32mreturn\u001b[0m \u001b[0;31m# None\u001b[0m\u001b[0;34m\u001b[0m\u001b[0m\n\u001b[1;32m     48\u001b[0m         \u001b[0;32mif\u001b[0m \u001b[0mevent\u001b[0m \u001b[0;34m==\u001b[0m \u001b[0;34m'line'\u001b[0m\u001b[0;34m:\u001b[0m\u001b[0;34m\u001b[0m\u001b[0m\n\u001b[0;32m---> 49\u001b[0;31m             \u001b[0;32mreturn\u001b[0m \u001b[0mself\u001b[0m\u001b[0;34m.\u001b[0m\u001b[0mdispatch_line\u001b[0m\u001b[0;34m(\u001b[0m\u001b[0mframe\u001b[0m\u001b[0;34m)\u001b[0m\u001b[0;34m\u001b[0m\u001b[0m\n\u001b[0m\u001b[1;32m     50\u001b[0m         \u001b[0;32mif\u001b[0m \u001b[0mevent\u001b[0m \u001b[0;34m==\u001b[0m \u001b[0;34m'call'\u001b[0m\u001b[0;34m:\u001b[0m\u001b[0;34m\u001b[0m\u001b[0m\n\u001b[1;32m     51\u001b[0m             \u001b[0;32mreturn\u001b[0m \u001b[0mself\u001b[0m\u001b[0;34m.\u001b[0m\u001b[0mdispatch_call\u001b[0m\u001b[0;34m(\u001b[0m\u001b[0mframe\u001b[0m\u001b[0;34m,\u001b[0m \u001b[0marg\u001b[0m\u001b[0;34m)\u001b[0m\u001b[0;34m\u001b[0m\u001b[0m\n",
      "\u001b[0;32m/System/Library/Frameworks/Python.framework/Versions/2.7/lib/python2.7/bdb.pyc\u001b[0m in \u001b[0;36mdispatch_line\u001b[0;34m(self, frame)\u001b[0m\n\u001b[1;32m     66\u001b[0m         \u001b[0;32mif\u001b[0m \u001b[0mself\u001b[0m\u001b[0;34m.\u001b[0m\u001b[0mstop_here\u001b[0m\u001b[0;34m(\u001b[0m\u001b[0mframe\u001b[0m\u001b[0;34m)\u001b[0m \u001b[0;32mor\u001b[0m \u001b[0mself\u001b[0m\u001b[0;34m.\u001b[0m\u001b[0mbreak_here\u001b[0m\u001b[0;34m(\u001b[0m\u001b[0mframe\u001b[0m\u001b[0;34m)\u001b[0m\u001b[0;34m:\u001b[0m\u001b[0;34m\u001b[0m\u001b[0m\n\u001b[1;32m     67\u001b[0m             \u001b[0mself\u001b[0m\u001b[0;34m.\u001b[0m\u001b[0muser_line\u001b[0m\u001b[0;34m(\u001b[0m\u001b[0mframe\u001b[0m\u001b[0;34m)\u001b[0m\u001b[0;34m\u001b[0m\u001b[0m\n\u001b[0;32m---> 68\u001b[0;31m             \u001b[0;32mif\u001b[0m \u001b[0mself\u001b[0m\u001b[0;34m.\u001b[0m\u001b[0mquitting\u001b[0m\u001b[0;34m:\u001b[0m \u001b[0;32mraise\u001b[0m \u001b[0mBdbQuit\u001b[0m\u001b[0;34m\u001b[0m\u001b[0m\n\u001b[0m\u001b[1;32m     69\u001b[0m         \u001b[0;32mreturn\u001b[0m \u001b[0mself\u001b[0m\u001b[0;34m.\u001b[0m\u001b[0mtrace_dispatch\u001b[0m\u001b[0;34m\u001b[0m\u001b[0m\n\u001b[1;32m     70\u001b[0m \u001b[0;34m\u001b[0m\u001b[0m\n",
      "\u001b[0;31mBdbQuit\u001b[0m: "
     ]
    }
   ],
   "source": [
    "#apply all commands on the following program\n",
    "import pdb\n",
    "\n",
    "class MyClass(object):\n",
    "\n",
    "    def __init__(self, num_loops):\n",
    "        self.count = num_loops\n",
    "\n",
    "    def go(self):\n",
    "        for i in range(self.count):\n",
    "            pdb.set_trace()\n",
    "            print(i)\n",
    "        return\n",
    "\n",
    "if __name__ == '__main__':\n",
    "    MyClass(5).go()"
   ]
  }
 ],
 "metadata": {
  "kernelspec": {
   "display_name": "Python 3",
   "language": "python",
   "name": "python3"
  },
  "language_info": {
   "codemirror_mode": {
    "name": "ipython",
    "version": 2
   },
   "file_extension": ".py",
   "mimetype": "text/x-python",
   "name": "python",
   "nbconvert_exporter": "python",
   "pygments_lexer": "ipython2",
   "version": "2.7.10"
  }
 },
 "nbformat": 4,
 "nbformat_minor": 2
}
